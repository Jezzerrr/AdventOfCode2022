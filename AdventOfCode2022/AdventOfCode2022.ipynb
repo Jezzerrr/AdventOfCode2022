{
 "cells": [
  {
   "cell_type": "code",
   "execution_count": 1,
   "id": "30f1e77e",
   "metadata": {},
   "outputs": [],
   "source": [
    "import pandas as pd\n",
    "import os\n",
    "import import_ipynb\n",
    "from numpy import *\n",
    "import numpy as np\n",
    "import matplotlib.pyplot as plt\n",
    "import itertools\n",
    "np.set_printoptions(linewidth=110)\n",
    "import time\n",
    "import random\n",
    "%matplotlib inline\n",
    "\n",
    "from ipywidgets import interact\n",
    "import ipywidgets as widgets\n",
    "\n",
    "from pprint import pprint\n",
    "import IPython\n",
    "\n",
    "import csv"
   ]
  },
  {
   "cell_type": "markdown",
   "id": "110759d9",
   "metadata": {},
   "source": [
    "# Day 1"
   ]
  },
  {
   "cell_type": "code",
   "execution_count": 40,
   "id": "d8e6447a",
   "metadata": {},
   "outputs": [],
   "source": [
    "all_lines = []\n",
    "ww = open('day1_input.txt', 'r')\n",
    "for line in ww:\n",
    "#     print (line)\n",
    "    all_lines.append(int('0' + line[:-1]))\n"
   ]
  },
  {
   "cell_type": "code",
   "execution_count": 41,
   "id": "c9173ab2",
   "metadata": {},
   "outputs": [],
   "source": [
    "all_lines = []\n",
    "with open('day1_input.txt', 'r') as f:\n",
    "    for line in f:\n",
    "#         print (line)\n",
    "        all_lines.append(int('0' + line[:-1]))"
   ]
  },
  {
   "cell_type": "code",
   "execution_count": 43,
   "id": "c4282de2",
   "metadata": {},
   "outputs": [],
   "source": [
    "# print (all_lines)"
   ]
  },
  {
   "cell_type": "markdown",
   "id": "42617124",
   "metadata": {},
   "source": [
    "### 1a"
   ]
  },
  {
   "cell_type": "code",
   "execution_count": 47,
   "id": "2f721f2f",
   "metadata": {},
   "outputs": [
    {
     "name": "stdout",
     "output_type": "stream",
     "text": [
      "73211\n"
     ]
    }
   ],
   "source": [
    "elves = []\n",
    "calorie_count = 0\n",
    "for line in all_lines:\n",
    "    if line == 0:\n",
    "        elves.append(calorie_count)\n",
    "        calorie_count = 0\n",
    "    else:\n",
    "        calorie_count += line\n",
    "\n",
    "# print (elves)\n",
    "# print ()\n",
    "print (max(elves))"
   ]
  },
  {
   "cell_type": "markdown",
   "id": "5ca7df3a",
   "metadata": {},
   "source": [
    "### 1b"
   ]
  },
  {
   "cell_type": "code",
   "execution_count": 45,
   "id": "c24bbfa4",
   "metadata": {},
   "outputs": [
    {
     "name": "stdout",
     "output_type": "stream",
     "text": [
      "[73211, 71575, 69172, 68718, 67617, 66910, 65983, 64633, 64621, 64013, 63202, 63076, 63021, 62791, 62261, 62021, 61462, 61278, 61197, 61092, 60923, 60598, 60538, 60486, 60472, 60288, 60203, 60197, 59861, 59767, 59381, 59358, 59331, 59170, 59113, 59072, 58993, 58789, 58601, 58486, 58450, 57901, 57844, 57736, 57557, 57499, 57435, 57426, 57280, 57251, 57201, 56991, 56894, 56794, 56784, 56651, 56619, 56459, 56357, 56081, 56077, 56060, 55729, 55676, 55625, 55224, 54999, 54811, 54554, 54248, 54124, 54097, 53980, 53722, 53692, 53673, 53625, 53598, 53552, 53442, 53355, 53285, 53211, 53159, 53092, 52965, 52804, 52789, 52724, 52618, 52587, 52505, 52438, 52381, 52286, 52279, 52228, 52143, 52111, 52104, 51899, 51607, 51476, 51258, 51247, 51134, 51067, 51018, 50973, 50811, 50777, 50394, 50144, 49868, 49758, 49680, 49506, 49490, 49400, 49282, 49251, 49230, 49230, 48927, 48887, 48715, 48701, 48581, 48515, 48338, 48332, 48262, 47928, 47813, 47783, 47741, 47593, 47417, 47347, 47317, 47314, 47277, 47256, 47034, 46865, 46832, 46832, 46806, 46558, 46546, 46528, 46350, 46034, 45901, 45614, 45594, 45502, 45494, 45424, 45380, 45340, 45267, 45157, 44989, 44884, 44845, 44613, 44517, 44476, 44318, 44173, 43897, 43746, 43682, 43167, 43064, 43036, 42598, 42514, 42438, 42406, 42403, 42352, 42187, 42014, 41817, 41464, 41266, 41155, 41118, 40622, 40447, 40055, 39739, 39362, 39265, 38938, 38273, 38086, 37717, 37410, 37135, 37048, 37023, 36703, 36498, 36448, 36445, 36225, 36153, 35853, 35817, 35682, 35676, 34883, 34538, 34325, 34056, 33963, 33943, 33668, 33188, 32859, 32633, 32591, 32390, 32323, 30461, 30255, 29698, 29549, 29494, 29166, 28496, 28182, 26977, 26439, 26007, 24991, 24135, 23900, 22547, 22491, 22395, 17720, 16712, 16255, 14907, 13898, 12946, 9994, 9083, 7352]\n",
      "\n",
      "213958\n"
     ]
    }
   ],
   "source": [
    "elves_ordered = elves.copy()\n",
    "elves_ordered.sort(reverse=True)\n",
    "print (elves_ordered)\n",
    "print ()\n",
    "print (np.sum(elves_ordered[:3]))"
   ]
  },
  {
   "cell_type": "code",
   "execution_count": null,
   "id": "d77d47a4",
   "metadata": {},
   "outputs": [],
   "source": []
  },
  {
   "cell_type": "code",
   "execution_count": null,
   "id": "6ca49968",
   "metadata": {},
   "outputs": [],
   "source": []
  },
  {
   "cell_type": "code",
   "execution_count": null,
   "id": "32a75cd0",
   "metadata": {},
   "outputs": [],
   "source": []
  },
  {
   "cell_type": "code",
   "execution_count": null,
   "id": "a06d19c0",
   "metadata": {},
   "outputs": [],
   "source": []
  },
  {
   "cell_type": "code",
   "execution_count": null,
   "id": "ae1076fc",
   "metadata": {},
   "outputs": [],
   "source": []
  },
  {
   "cell_type": "code",
   "execution_count": null,
   "id": "1efee68e",
   "metadata": {},
   "outputs": [],
   "source": []
  },
  {
   "cell_type": "code",
   "execution_count": null,
   "id": "05f01a69",
   "metadata": {},
   "outputs": [],
   "source": []
  },
  {
   "cell_type": "code",
   "execution_count": null,
   "id": "ff3d3494",
   "metadata": {},
   "outputs": [],
   "source": []
  },
  {
   "cell_type": "code",
   "execution_count": null,
   "id": "c9f2b868",
   "metadata": {},
   "outputs": [],
   "source": []
  }
 ],
 "metadata": {
  "kernelspec": {
   "display_name": "Python 3",
   "language": "python",
   "name": "python3"
  },
  "language_info": {
   "codemirror_mode": {
    "name": "ipython",
    "version": 3
   },
   "file_extension": ".py",
   "mimetype": "text/x-python",
   "name": "python",
   "nbconvert_exporter": "python",
   "pygments_lexer": "ipython3",
   "version": "3.7.7"
  }
 },
 "nbformat": 4,
 "nbformat_minor": 5
}
